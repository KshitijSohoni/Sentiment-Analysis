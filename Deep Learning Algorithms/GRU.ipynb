{
 "cells": [
  {
   "cell_type": "code",
   "execution_count": 1,
   "id": "e8f53b97",
   "metadata": {},
   "outputs": [
    {
     "name": "stdout",
     "output_type": "stream",
     "text": [
      "Model: \"sequential\"\n",
      "_________________________________________________________________\n",
      " Layer (type)                Output Shape              Param #   \n",
      "=================================================================\n",
      " dense (Dense)               (None, 64)                64064     \n",
      "                                                                 \n",
      " dense_1 (Dense)             (None, 32)                2080      \n",
      "                                                                 \n",
      " dense_2 (Dense)             (None, 3)                 99        \n",
      "                                                                 \n",
      "=================================================================\n",
      "Total params: 66243 (258.76 KB)\n",
      "Trainable params: 66243 (258.76 KB)\n",
      "Non-trainable params: 0 (0.00 Byte)\n",
      "_________________________________________________________________\n",
      "Epoch 1/5\n",
      "118/118 [==============================] - 3s 8ms/step - loss: 0.7487 - accuracy: 0.7218 - val_loss: 0.5628 - val_accuracy: 0.7762\n",
      "Epoch 2/5\n",
      "118/118 [==============================] - 0s 4ms/step - loss: 0.5087 - accuracy: 0.8067 - val_loss: 0.5201 - val_accuracy: 0.8017\n",
      "Epoch 3/5\n",
      "118/118 [==============================] - 0s 4ms/step - loss: 0.4535 - accuracy: 0.8261 - val_loss: 0.5202 - val_accuracy: 0.8006\n",
      "Epoch 4/5\n",
      "118/118 [==============================] - 0s 4ms/step - loss: 0.4204 - accuracy: 0.8408 - val_loss: 0.5343 - val_accuracy: 0.7959\n",
      "Epoch 5/5\n",
      "118/118 [==============================] - 0s 3ms/step - loss: 0.3892 - accuracy: 0.8565 - val_loss: 0.5495 - val_accuracy: 0.7895\n",
      "59/59 [==============================] - 0s 2ms/step\n"
     ]
    },
    {
     "data": {
      "image/png": "[encoded data removed]",
      "text/plain": [
       "<Figure size 800x600 with 1 Axes>"
      ]
     },
     "metadata": {},
     "output_type": "display_data"
    },
    {
     "name": "stdout",
     "output_type": "stream",
     "text": [
      "\n",
      "Accuracy: 0.7894736842105263\n",
      "\n",
      "Classification Report:\n",
      "               precision    recall  f1-score   support\n",
      "\n",
      "           0       0.60      0.58      0.59       325\n",
      "           1       0.85      0.93      0.89      1380\n",
      "           2       0.22      0.07      0.11       176\n",
      "\n",
      "    accuracy                           0.79      1881\n",
      "   macro avg       0.56      0.53      0.53      1881\n",
      "weighted avg       0.75      0.79      0.76      1881\n",
      "\n"
     ]
    }
   ],
   "source": [
    "import pandas as pd\n",
    "import seaborn as sns\n",
    "import matplotlib.pyplot as plt\n",
    "from sklearn.feature_extraction.text import TfidfVectorizer\n",
    "from sklearn.model_selection import train_test_split\n",
    "from sklearn.metrics import classification_report, confusion_matrix, accuracy_score\n",
    "from sklearn.preprocessing import LabelEncoder  # Import LabelEncoder\n",
    "import tensorflow as tf\n",
    "from tensorflow.keras.models import Sequential\n",
    "from tensorflow.keras.layers import Dense\n",
    "\n",
    "data = pd.read_excel(\"Book1.xlsx\")\n",
    "\n",
    "tfidf_vectorizer = TfidfVectorizer(\n",
    "    max_features=1000,  # Adjust the number of features as needed\n",
    "    stop_words=\"english\"  \n",
    ")\n",
    "\n",
    "tfidf_matrix = tfidf_vectorizer.fit_transform(data['processed_reviews'])\n",
    "\n",
    "tfidf_dense_matrix = tfidf_matrix.toarray()\n",
    "\n",
    "target_column = \"review_tag\"\n",
    "features_columns = tfidf_vectorizer.get_feature_names_out()\n",
    "\n",
    "X = tfidf_dense_matrix\n",
    "\n",
    "label_encoder = LabelEncoder()\n",
    "y = label_encoder.fit_transform(data[target_column])  \n",
    "\n",
    "X_train, X_test, y_train, y_test = train_test_split(X, y, test_size=0.2, random_state=42)\n",
    "\n",
    "model = Sequential()\n",
    "model.add(Dense(64, activation='relu', input_shape=(X_train.shape[1],)))\n",
    "model.add(Dense(32, activation='relu'))\n",
    "model.add(Dense(3, activation='softmax'))  # Three classes: 'good', 'moderate', 'bad'\n",
    "\n",
    "model.compile(optimizer='adam', loss='sparse_categorical_crossentropy', metrics=['accuracy'])\n",
    "model.summary()\n",
    "\n",
    "history = model.fit(X_train, y_train, epochs=5, batch_size=64, validation_data=(X_test, y_test))\n",
    "\n",
    "predictions = model.predict(X_test)\n",
    "y_pred = [tf.argmax(pred).numpy() for pred in predictions]\n",
    "\n",
    "conf_matrix = confusion_matrix(y_test, y_pred)\n",
    "\n",
    "plt.figure(figsize=(8, 6))\n",
    "sns.heatmap(conf_matrix, annot=True, fmt=\"d\", cmap=\"Blues\", cbar=False)\n",
    "plt.xlabel(\"Predicted\")\n",
    "plt.ylabel(\"Actual\")\n",
    "plt.title(\"Confusion Matrix\")\n",
    "plt.show()\n",
    "\n",
    "accuracy = accuracy_score(y_test, y_pred)\n",
    "\n",
    "print(\"\\nAccuracy:\", accuracy)\n",
    "print(\"\\nClassification Report:\\n\", classification_report(y_test, y_pred))"
   ]
  }
 ],
 "metadata": {
  "kernelspec": {
   "display_name": "Python 3 (ipykernel)",
   "language": "python",
   "name": "python3"
  },
  "language_info": {
   "codemirror_mode": {
    "name": "ipython",
    "version": 3
   },
   "file_extension": ".py",
   "mimetype": "text/x-python",
   "name": "python",
   "nbconvert_exporter": "python",
   "pygments_lexer": "ipython3",
   "version": "3.11.4"
  }
 },
 "nbformat": 4,
 "nbformat_minor": 5
}
