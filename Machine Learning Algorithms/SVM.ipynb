{
 "cells": [
  {
   "cell_type": "code",
   "execution_count": null,
   "id": "a3ae9338",
   "metadata": {},
   "outputs": [],
   "source": [
    "import pandas as pd \n",
    "import seaborn as sns\n",
    "import matplotlib.pyplot as plt\n",
    "from sklearn.feature_extraction.text import TfidfVectorizer\n",
    "from sklearn.model_selection import train_test_split\n",
    "from sklearn.svm import SVC\n",
    "from sklearn.metrics import classification_report, confusion_matrix, accuracy_score\n",
    "\n",
    "\n",
    "data = pd.read_excel(\"Book1.xlsx\")\n",
    "data"
   ]
  },
  {
   "cell_type": "code",
   "execution_count": null,
   "id": "49eaba81",
   "metadata": {},
   "outputs": [],
   "source": [
    "#Initialize the TF-IDF vectorizer\n",
    "tfidf_vectorizer = TfidfVectorizer(\n",
    "    max_features=1000,  # Adjust the number of features as needed\n",
    "    stop_words=\"english\"  \n",
    ")\n",
    "\n",
    "tfidf_matrix = tfidf_vectorizer.fit_transform(data['processed_reviews'])\n",
    "\n",
    "tfidf_dense_matrix = tfidf_matrix.toarray()\n",
    "\n",
    "tfidf_df = pd.DataFrame(tfidf_dense_matrix, columns=tfidf_vectorizer.get_feature_names_out())\n",
    "\n",
    "final_data = pd.concat([data, tfidf_df], axis=1)\n",
    "\n",
    "final_data"
   ]
  },
  {
   "cell_type": "code",
   "execution_count": null,
   "id": "3ee0c176",
   "metadata": {},
   "outputs": [],
   "source": [
    "\n",
    "svm_model = SVC(kernel=\"linear\")  # You can adjust the kernel and other hyperparameters\n",
    "\n",
    "train_data, test_data = train_test_split(final_data, test_size=0.2, random_state=42)\n",
    "\n",
    "target_column = \"review_tag\"\n",
    "features_columns = tfidf_vectorizer.get_feature_names_out()  \n",
    "\n",
    "X_train = train_data[features_columns]\n",
    "y_train = train_data[target_column]\n",
    "\n",
    "X_test = test_data[features_columns]\n",
    "y_test = test_data[target_column]\n",
    "\n",
    "svm_model.fit(X_train, y_train)\n",
    "predictions = svm_model.predict(X_test)\n",
    "\n",
    "report = classification_report(y_test, predictions)\n",
    "\n",
    "conf_matrix = confusion_matrix(y_test, predictions)\n",
    "\n",
    "plt.figure(figsize=(8, 6))\n",
    "sns.heatmap(conf_matrix, annot=True, fmt=\"d\", cmap=\"Blues\", cbar=False)\n",
    "plt.xlabel(\"Predicted\")\n",
    "plt.ylabel(\"Actual\")\n",
    "plt.title(\"Confusion Matrix\")\n",
    "plt.show()\n",
    "\n",
    "accuracy = accuracy_score(y_test, predictions)\n",
    "\n",
    "print(\"\\nAccuracy:\", accuracy)\n",
    "print(\"\\nClassification Report:\\n\", report)\n"
   ]
  }
 ],
 "metadata": {
  "kernelspec": {
   "display_name": "Python 3 (ipykernel)",
   "language": "python",
   "name": "python3"
  },
  "language_info": {
   "codemirror_mode": {
    "name": "ipython",
    "version": 3
   },
   "file_extension": ".py",
   "mimetype": "text/x-python",
   "name": "python",
   "nbconvert_exporter": "python",
   "pygments_lexer": "ipython3",
   "version": "3.11.4"
  }
 },
 "nbformat": 4,
 "nbformat_minor": 5
}
